{
 "cells": [
  {
   "cell_type": "code",
   "execution_count": 1,
   "metadata": {},
   "outputs": [
    {
     "name": "stderr",
     "output_type": "stream",
     "text": [
      "Using TensorFlow backend.\n"
     ]
    }
   ],
   "source": [
    "import warnings\n",
    "warnings.filterwarnings('ignore')\n",
    "\n",
    "import numpy as np\n",
    "from keras.models import Sequential\n",
    "from keras.layers import Dense\n",
    "from keras.utils import np_utils\n",
    "from keras.models import Model\n",
    "\n",
    "np.random.seed(23)"
   ]
  },
  {
   "cell_type": "markdown",
   "metadata": {},
   "source": [
    "Write a program to output the numbers 1-100, where numbers divisible by 3 output Fizz, divisible by 5 output Buzz, and divisible by both output FizzBuzz"
   ]
  },
  {
   "cell_type": "code",
   "execution_count": 2,
   "metadata": {},
   "outputs": [
    {
     "data": {
      "text/plain": [
       "array([ 696,  843, 1165])"
      ]
     },
     "execution_count": 2,
     "metadata": {},
     "output_type": "execute_result"
    }
   ],
   "source": [
    "# specifiy number of binary digits\n",
    "num_digits = 12\n",
    "# create training data not including 1-100, \n",
    "# since that is what to predict\n",
    "raw_train = np.random.randint(101, 2**num_digits, \n",
    "                                  2**num_digits-101)\n",
    "raw_train[:3]"
   ]
  },
  {
   "cell_type": "code",
   "execution_count": 19,
   "metadata": {},
   "outputs": [],
   "source": [
    "def fizzbuzz(x):\n",
    "    if x % 15== 0:\n",
    "        return 'fizzbuzz'\n",
    "    elif x % 3 == 0:\n",
    "        return 'fizz'\n",
    "    elif x % 5 == 0:\n",
    "        return 'buzz'\n",
    "    else:\n",
    "        return x"
   ]
  },
  {
   "cell_type": "code",
   "execution_count": 4,
   "metadata": {},
   "outputs": [],
   "source": [
    "# encode FizzBuzz\n",
    "def encode_fizzbuzz(x):\n",
    "    '''\n",
    "    1,0,0,0 = fizzbuzz\n",
    "    0,1,0,0 = fizz\n",
    "    0,0,1,0 = buzz\n",
    "    0,0,0,1 = original number\n",
    "    '''\n",
    "    if x % 15== 0:\n",
    "        return np.array([0,0,0,1])\n",
    "    elif x % 3 == 0:\n",
    "        return np.array([0,1,0,0])\n",
    "    elif x % 5 == 0:\n",
    "        return np.array([0,0,1,0])\n",
    "    else:\n",
    "        return np.array([1,0,0,0])"
   ]
  },
  {
   "cell_type": "code",
   "execution_count": 5,
   "metadata": {},
   "outputs": [],
   "source": [
    "def binary_encode(i, num_digits):\n",
    "    return np.array([i >> d & 1 for d in range(num_digits)])"
   ]
  },
  {
   "cell_type": "code",
   "execution_count": 6,
   "metadata": {},
   "outputs": [],
   "source": [
    "encoded_train = [binary_encode(i, num_digits) for i in raw_train]"
   ]
  },
  {
   "cell_type": "code",
   "execution_count": 7,
   "metadata": {},
   "outputs": [],
   "source": [
    "x_train = np.array(encoded_train)\n",
    "y_train = np.array([encode_fizzbuzz(i) for i in raw_train])"
   ]
  },
  {
   "cell_type": "code",
   "execution_count": 8,
   "metadata": {},
   "outputs": [
    {
     "data": {
      "text/plain": [
       "3995"
      ]
     },
     "execution_count": 8,
     "metadata": {},
     "output_type": "execute_result"
    }
   ],
   "source": [
    "len(x_train)"
   ]
  },
  {
   "cell_type": "code",
   "execution_count": 9,
   "metadata": {},
   "outputs": [
    {
     "data": {
      "text/plain": [
       "3995"
      ]
     },
     "execution_count": 9,
     "metadata": {},
     "output_type": "execute_result"
    }
   ],
   "source": [
    "len(y_train)"
   ]
  },
  {
   "cell_type": "code",
   "execution_count": 10,
   "metadata": {},
   "outputs": [],
   "source": [
    "# decode FizzBuzz, requires second input for original number\n",
    "def decode_fizzbuzz(i, prediction):\n",
    "    return [str(i), \"fizz\", \"buzz\", \"fizzbuzz\"][prediction]"
   ]
  },
  {
   "cell_type": "code",
   "execution_count": 30,
   "metadata": {},
   "outputs": [],
   "source": [
    "# Now let's build our model, add layers, compile, and fit it!\n",
    "model = Sequential()\n",
    "\n",
    "## Add the model's layers.\n",
    "# These are defaults and they work pretty well\n",
    "model.add(Dense(1000, input_dim=num_digits, activation=\"relu\"))\n",
    "model.add(Dense(1000, activation=\"relu\"))\n",
    "model.add(Dense(4, activation=\"softmax\"))\n",
    "\n",
    "model.compile(loss='categorical_crossentropy', \n",
    "                  optimizer='adagrad', metrics=[\"accuracy\"])"
   ]
  },
  {
   "cell_type": "code",
   "execution_count": 31,
   "metadata": {},
   "outputs": [
    {
     "name": "stdout",
     "output_type": "stream",
     "text": [
      "Model: \"sequential_2\"\n",
      "_________________________________________________________________\n",
      "Layer (type)                 Output Shape              Param #   \n",
      "=================================================================\n",
      "dense_4 (Dense)              (None, 1000)              13000     \n",
      "_________________________________________________________________\n",
      "dense_5 (Dense)              (None, 1000)              1001000   \n",
      "_________________________________________________________________\n",
      "dense_6 (Dense)              (None, 4)                 4004      \n",
      "=================================================================\n",
      "Total params: 1,018,004\n",
      "Trainable params: 1,018,004\n",
      "Non-trainable params: 0\n",
      "_________________________________________________________________\n"
     ]
    }
   ],
   "source": [
    "model.summary()"
   ]
  },
  {
   "cell_type": "code",
   "execution_count": 32,
   "metadata": {},
   "outputs": [
    {
     "name": "stdout",
     "output_type": "stream",
     "text": [
      "Epoch 1/30\n",
      "3995/3995 [==============================] - 2s 477us/step - loss: 1.3321 - accuracy: 0.5011\n",
      "Epoch 2/30\n",
      "3995/3995 [==============================] - 1s 354us/step - loss: 1.1447 - accuracy: 0.5244\n",
      "Epoch 3/30\n",
      "3995/3995 [==============================] - 1s 302us/step - loss: 1.1316 - accuracy: 0.5267\n",
      "Epoch 4/30\n",
      "3995/3995 [==============================] - 1s 339us/step - loss: 1.1136 - accuracy: 0.5287\n",
      "Epoch 5/30\n",
      "3995/3995 [==============================] - 1s 351us/step - loss: 1.0886 - accuracy: 0.5367\n",
      "Epoch 6/30\n",
      "3995/3995 [==============================] - 1s 343us/step - loss: 1.0570 - accuracy: 0.5452\n",
      "Epoch 7/30\n",
      "3995/3995 [==============================] - 1s 310us/step - loss: 1.0162 - accuracy: 0.5537\n",
      "Epoch 8/30\n",
      "3995/3995 [==============================] - 1s 306us/step - loss: 0.9626 - accuracy: 0.5770\n",
      "Epoch 9/30\n",
      "3995/3995 [==============================] - 1s 333us/step - loss: 0.8985 - accuracy: 0.6125\n",
      "Epoch 10/30\n",
      "3995/3995 [==============================] - 1s 332us/step - loss: 0.8290 - accuracy: 0.6531\n",
      "Epoch 11/30\n",
      "3995/3995 [==============================] - 2s 389us/step - loss: 0.7501 - accuracy: 0.7049\n",
      "Epoch 12/30\n",
      "3995/3995 [==============================] - 2s 451us/step - loss: 0.6830 - accuracy: 0.7402\n",
      "Epoch 13/30\n",
      "3995/3995 [==============================] - 1s 349us/step - loss: 0.6052 - accuracy: 0.7932\n",
      "Epoch 14/30\n",
      "3995/3995 [==============================] - 1s 276us/step - loss: 0.5251 - accuracy: 0.8416\n",
      "Epoch 15/30\n",
      "3995/3995 [==============================] - 1s 295us/step - loss: 0.4601 - accuracy: 0.8656\n",
      "Epoch 16/30\n",
      "3995/3995 [==============================] - 1s 325us/step - loss: 0.3933 - accuracy: 0.9016\n",
      "Epoch 17/30\n",
      "3995/3995 [==============================] - 1s 330us/step - loss: 0.3415 - accuracy: 0.9224\n",
      "Epoch 18/30\n",
      "3995/3995 [==============================] - 2s 379us/step - loss: 0.3107 - accuracy: 0.9289\n",
      "Epoch 19/30\n",
      "3995/3995 [==============================] - 1s 313us/step - loss: 0.2647 - accuracy: 0.9487\n",
      "Epoch 20/30\n",
      "3995/3995 [==============================] - 1s 284us/step - loss: 0.2205 - accuracy: 0.9680\n",
      "Epoch 21/30\n",
      "3995/3995 [==============================] - 1s 291us/step - loss: 0.2091 - accuracy: 0.9620\n",
      "Epoch 22/30\n",
      "3995/3995 [==============================] - 1s 293us/step - loss: 0.1724 - accuracy: 0.9767\n",
      "Epoch 23/30\n",
      "3995/3995 [==============================] - 1s 283us/step - loss: 0.1512 - accuracy: 0.9832\n",
      "Epoch 24/30\n",
      "3995/3995 [==============================] - 1s 292us/step - loss: 0.1362 - accuracy: 0.9837\n",
      "Epoch 25/30\n",
      "3995/3995 [==============================] - 1s 292us/step - loss: 0.1194 - accuracy: 0.9892\n",
      "Epoch 26/30\n",
      "3995/3995 [==============================] - 1s 331us/step - loss: 0.1150 - accuracy: 0.9882\n",
      "Epoch 27/30\n",
      "3995/3995 [==============================] - 2s 431us/step - loss: 0.0957 - accuracy: 0.9930\n",
      "Epoch 28/30\n",
      "3995/3995 [==============================] - 1s 357us/step - loss: 0.0886 - accuracy: 0.9942\n",
      "Epoch 29/30\n",
      "3995/3995 [==============================] - 1s 297us/step - loss: 0.0832 - accuracy: 0.9925\n",
      "Epoch 30/30\n",
      "3995/3995 [==============================] - 1s 299us/step - loss: 0.0784 - accuracy: 0.9940\n"
     ]
    },
    {
     "data": {
      "text/plain": [
       "<keras.callbacks.callbacks.History at 0x644d9c710>"
      ]
     },
     "execution_count": 32,
     "metadata": {},
     "output_type": "execute_result"
    }
   ],
   "source": [
    "model.fit(x_train, y_train, nb_epoch=30, batch_size=128)"
   ]
  },
  {
   "cell_type": "code",
   "execution_count": 33,
   "metadata": {},
   "outputs": [
    {
     "data": {
      "text/plain": [
       "array([[1, 0, 0, 0, 0, 0, 0, 0, 0, 0, 0, 0],\n",
       "       [0, 1, 0, 0, 0, 0, 0, 0, 0, 0, 0, 0]])"
      ]
     },
     "execution_count": 33,
     "metadata": {},
     "output_type": "execute_result"
    }
   ],
   "source": [
    "numbers = np.arange(1,101)\n",
    "x_test = np.transpose(binary_encode(numbers, num_digits))\n",
    "x_test[:2]"
   ]
  },
  {
   "cell_type": "code",
   "execution_count": 34,
   "metadata": {},
   "outputs": [],
   "source": [
    "y_test = model.predict_classes(x_test)"
   ]
  },
  {
   "cell_type": "code",
   "execution_count": 35,
   "metadata": {},
   "outputs": [],
   "source": [
    "predictions = np.vectorize(decode_fizzbuzz)(numbers, y_test)"
   ]
  },
  {
   "cell_type": "code",
   "execution_count": 47,
   "metadata": {},
   "outputs": [
    {
     "name": "stdout",
     "output_type": "stream",
     "text": [
      "['1' '2' '3' '4' '5' 'fizz' '7' '8' 'fizz' 'buzz' '11' 'fizz' '13' '14'\n",
      " 'fizzbuzz' '16' '17' '18' '19' '20' '21' '22' '23' 'fizz' '25' '26'\n",
      " 'fizz' '28' '29' 'fizzbuzz' '31' '32' 'fizz' '34' 'buzz' 'fizz' '37' '38'\n",
      " '39' 'buzz' '41' 'fizz' '43' '44' 'fizzbuzz' 'fizz' '47' '48' '49' 'buzz'\n",
      " 'fizz' '52' '53' '54' '55' '56' 'fizz' '58' '59' 'fizzbuzz' '61' '62'\n",
      " 'fizz' '64' '65' 'fizz' '67' '68' '69' 'buzz' '71' 'fizz' '73' '74'\n",
      " 'fizzbuzz' '76' '77' 'fizz' '79' '80' 'fizz' '82' '83' 'fizz' '85' '86'\n",
      " 'fizz' '88' '89' 'fizzbuzz' '91' '92' 'fizz' '94' 'buzz' '96' '97' '98'\n",
      " '99' 'buzz']\n"
     ]
    }
   ],
   "source": [
    "print(predictions)"
   ]
  },
  {
   "cell_type": "code",
   "execution_count": 41,
   "metadata": {},
   "outputs": [],
   "source": [
    "answer = [fizzbuzz(i) for i in range(1,101)]"
   ]
  },
  {
   "cell_type": "code",
   "execution_count": 42,
   "metadata": {},
   "outputs": [
    {
     "name": "stdout",
     "output_type": "stream",
     "text": [
      "0.83\n"
     ]
    }
   ],
   "source": [
    "#evaluate\n",
    "evaluate = np.array(answer == predictions)\n",
    "print(np.count_nonzero(evaluate == True) / 100)"
   ]
  },
  {
   "cell_type": "code",
   "execution_count": null,
   "metadata": {},
   "outputs": [],
   "source": []
  }
 ],
 "metadata": {
  "kernelspec": {
   "display_name": "Python 3",
   "language": "python",
   "name": "python3"
  },
  "language_info": {
   "codemirror_mode": {
    "name": "ipython",
    "version": 3
   },
   "file_extension": ".py",
   "mimetype": "text/x-python",
   "name": "python",
   "nbconvert_exporter": "python",
   "pygments_lexer": "ipython3",
   "version": "3.7.6"
  }
 },
 "nbformat": 4,
 "nbformat_minor": 4
}
