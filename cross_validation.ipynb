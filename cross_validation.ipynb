{
 "cells": [
  {
   "cell_type": "code",
   "execution_count": 1,
   "metadata": {},
   "outputs": [],
   "source": [
    "import pandas as pd\n",
    "from pydataset import data\n",
    "\n",
    "from sklearn.model_selection import \\\n",
    "    cross_val_score, train_test_split, GridSearchCV\n",
    "from sklearn.metrics import make_scorer, precision_score\n",
    "from sklearn.preprocessing import LabelEncoder\n",
    "\n",
    "from sklearn.tree import DecisionTreeClassifier\n",
    "from sklearn.linear_model import LogisticRegression"
   ]
  },
  {
   "cell_type": "code",
   "execution_count": 2,
   "metadata": {},
   "outputs": [
    {
     "data": {
      "text/html": [
       "<div>\n",
       "<style scoped>\n",
       "    .dataframe tbody tr th:only-of-type {\n",
       "        vertical-align: middle;\n",
       "    }\n",
       "\n",
       "    .dataframe tbody tr th {\n",
       "        vertical-align: top;\n",
       "    }\n",
       "\n",
       "    .dataframe thead th {\n",
       "        text-align: right;\n",
       "    }\n",
       "</style>\n",
       "<table border=\"1\" class=\"dataframe\">\n",
       "  <thead>\n",
       "    <tr style=\"text-align: right;\">\n",
       "      <th></th>\n",
       "      <th>manufacturer</th>\n",
       "      <th>model</th>\n",
       "      <th>displ</th>\n",
       "      <th>year</th>\n",
       "      <th>cyl</th>\n",
       "      <th>trans</th>\n",
       "      <th>drv</th>\n",
       "      <th>cty</th>\n",
       "      <th>hwy</th>\n",
       "      <th>fl</th>\n",
       "      <th>class</th>\n",
       "    </tr>\n",
       "  </thead>\n",
       "  <tbody>\n",
       "    <tr>\n",
       "      <th>1</th>\n",
       "      <td>audi</td>\n",
       "      <td>a4</td>\n",
       "      <td>1.8</td>\n",
       "      <td>1999</td>\n",
       "      <td>4</td>\n",
       "      <td>auto</td>\n",
       "      <td>f</td>\n",
       "      <td>18</td>\n",
       "      <td>29</td>\n",
       "      <td>p</td>\n",
       "      <td>compact</td>\n",
       "    </tr>\n",
       "    <tr>\n",
       "      <th>2</th>\n",
       "      <td>audi</td>\n",
       "      <td>a4</td>\n",
       "      <td>1.8</td>\n",
       "      <td>1999</td>\n",
       "      <td>4</td>\n",
       "      <td>manual</td>\n",
       "      <td>f</td>\n",
       "      <td>21</td>\n",
       "      <td>29</td>\n",
       "      <td>p</td>\n",
       "      <td>compact</td>\n",
       "    </tr>\n",
       "    <tr>\n",
       "      <th>3</th>\n",
       "      <td>audi</td>\n",
       "      <td>a4</td>\n",
       "      <td>2.0</td>\n",
       "      <td>2008</td>\n",
       "      <td>4</td>\n",
       "      <td>manual</td>\n",
       "      <td>f</td>\n",
       "      <td>20</td>\n",
       "      <td>31</td>\n",
       "      <td>p</td>\n",
       "      <td>compact</td>\n",
       "    </tr>\n",
       "    <tr>\n",
       "      <th>4</th>\n",
       "      <td>audi</td>\n",
       "      <td>a4</td>\n",
       "      <td>2.0</td>\n",
       "      <td>2008</td>\n",
       "      <td>4</td>\n",
       "      <td>auto</td>\n",
       "      <td>f</td>\n",
       "      <td>21</td>\n",
       "      <td>30</td>\n",
       "      <td>p</td>\n",
       "      <td>compact</td>\n",
       "    </tr>\n",
       "    <tr>\n",
       "      <th>5</th>\n",
       "      <td>audi</td>\n",
       "      <td>a4</td>\n",
       "      <td>2.8</td>\n",
       "      <td>1999</td>\n",
       "      <td>6</td>\n",
       "      <td>auto</td>\n",
       "      <td>f</td>\n",
       "      <td>16</td>\n",
       "      <td>26</td>\n",
       "      <td>p</td>\n",
       "      <td>compact</td>\n",
       "    </tr>\n",
       "  </tbody>\n",
       "</table>\n",
       "</div>"
      ],
      "text/plain": [
       "  manufacturer model  displ  year  cyl   trans drv  cty  hwy fl    class\n",
       "1         audi    a4    1.8  1999    4    auto   f   18   29  p  compact\n",
       "2         audi    a4    1.8  1999    4  manual   f   21   29  p  compact\n",
       "3         audi    a4    2.0  2008    4  manual   f   20   31  p  compact\n",
       "4         audi    a4    2.0  2008    4    auto   f   21   30  p  compact\n",
       "5         audi    a4    2.8  1999    6    auto   f   16   26  p  compact"
      ]
     },
     "execution_count": 2,
     "metadata": {},
     "output_type": "execute_result"
    }
   ],
   "source": [
    "df = data('mpg')\n",
    "df.trans = df.trans.str[:-4]\n",
    "df.head()"
   ]
  },
  {
   "cell_type": "code",
   "execution_count": 3,
   "metadata": {},
   "outputs": [
    {
     "data": {
      "text/plain": [
       "15"
      ]
     },
     "execution_count": 3,
     "metadata": {},
     "output_type": "execute_result"
    }
   ],
   "source": [
    "len(df.manufacturer.unique())"
   ]
  },
  {
   "cell_type": "code",
   "execution_count": 4,
   "metadata": {},
   "outputs": [
    {
     "data": {
      "text/plain": [
       "5"
      ]
     },
     "execution_count": 4,
     "metadata": {},
     "output_type": "execute_result"
    }
   ],
   "source": [
    "len(df.fl.unique())"
   ]
  },
  {
   "cell_type": "code",
   "execution_count": 5,
   "metadata": {},
   "outputs": [],
   "source": [
    "cars = df.copy()\n",
    "for col in ['manufacturer', 'year', 'cyl', 'trans', 'drv', 'fl']:\n",
    "    le = LabelEncoder().fit(cars[col])\n",
    "    cars[col] = le.transform(cars[col])"
   ]
  },
  {
   "cell_type": "code",
   "execution_count": 6,
   "metadata": {
    "scrolled": true
   },
   "outputs": [
    {
     "data": {
      "text/html": [
       "<div>\n",
       "<style scoped>\n",
       "    .dataframe tbody tr th:only-of-type {\n",
       "        vertical-align: middle;\n",
       "    }\n",
       "\n",
       "    .dataframe tbody tr th {\n",
       "        vertical-align: top;\n",
       "    }\n",
       "\n",
       "    .dataframe thead th {\n",
       "        text-align: right;\n",
       "    }\n",
       "</style>\n",
       "<table border=\"1\" class=\"dataframe\">\n",
       "  <thead>\n",
       "    <tr style=\"text-align: right;\">\n",
       "      <th></th>\n",
       "      <th>manufacturer</th>\n",
       "      <th>model</th>\n",
       "      <th>displ</th>\n",
       "      <th>year</th>\n",
       "      <th>cyl</th>\n",
       "      <th>trans</th>\n",
       "      <th>drv</th>\n",
       "      <th>cty</th>\n",
       "      <th>hwy</th>\n",
       "      <th>fl</th>\n",
       "      <th>class</th>\n",
       "    </tr>\n",
       "  </thead>\n",
       "  <tbody>\n",
       "    <tr>\n",
       "      <th>1</th>\n",
       "      <td>0</td>\n",
       "      <td>a4</td>\n",
       "      <td>1.8</td>\n",
       "      <td>0</td>\n",
       "      <td>0</td>\n",
       "      <td>0</td>\n",
       "      <td>1</td>\n",
       "      <td>18</td>\n",
       "      <td>29</td>\n",
       "      <td>3</td>\n",
       "      <td>compact</td>\n",
       "    </tr>\n",
       "    <tr>\n",
       "      <th>2</th>\n",
       "      <td>0</td>\n",
       "      <td>a4</td>\n",
       "      <td>1.8</td>\n",
       "      <td>0</td>\n",
       "      <td>0</td>\n",
       "      <td>1</td>\n",
       "      <td>1</td>\n",
       "      <td>21</td>\n",
       "      <td>29</td>\n",
       "      <td>3</td>\n",
       "      <td>compact</td>\n",
       "    </tr>\n",
       "    <tr>\n",
       "      <th>3</th>\n",
       "      <td>0</td>\n",
       "      <td>a4</td>\n",
       "      <td>2.0</td>\n",
       "      <td>1</td>\n",
       "      <td>0</td>\n",
       "      <td>1</td>\n",
       "      <td>1</td>\n",
       "      <td>20</td>\n",
       "      <td>31</td>\n",
       "      <td>3</td>\n",
       "      <td>compact</td>\n",
       "    </tr>\n",
       "    <tr>\n",
       "      <th>4</th>\n",
       "      <td>0</td>\n",
       "      <td>a4</td>\n",
       "      <td>2.0</td>\n",
       "      <td>1</td>\n",
       "      <td>0</td>\n",
       "      <td>0</td>\n",
       "      <td>1</td>\n",
       "      <td>21</td>\n",
       "      <td>30</td>\n",
       "      <td>3</td>\n",
       "      <td>compact</td>\n",
       "    </tr>\n",
       "    <tr>\n",
       "      <th>5</th>\n",
       "      <td>0</td>\n",
       "      <td>a4</td>\n",
       "      <td>2.8</td>\n",
       "      <td>0</td>\n",
       "      <td>2</td>\n",
       "      <td>0</td>\n",
       "      <td>1</td>\n",
       "      <td>16</td>\n",
       "      <td>26</td>\n",
       "      <td>3</td>\n",
       "      <td>compact</td>\n",
       "    </tr>\n",
       "  </tbody>\n",
       "</table>\n",
       "</div>"
      ],
      "text/plain": [
       "   manufacturer model  displ  year  cyl  trans  drv  cty  hwy  fl    class\n",
       "1             0    a4    1.8     0    0      0    1   18   29   3  compact\n",
       "2             0    a4    1.8     0    0      1    1   21   29   3  compact\n",
       "3             0    a4    2.0     1    0      1    1   20   31   3  compact\n",
       "4             0    a4    2.0     1    0      0    1   21   30   3  compact\n",
       "5             0    a4    2.8     0    2      0    1   16   26   3  compact"
      ]
     },
     "execution_count": 6,
     "metadata": {},
     "output_type": "execute_result"
    }
   ],
   "source": [
    "cars.head()"
   ]
  },
  {
   "cell_type": "code",
   "execution_count": 7,
   "metadata": {},
   "outputs": [],
   "source": [
    "X = cars.drop(columns=['class', 'model'])\n",
    "y = cars['class']\n",
    "\n",
    "X_train, X_test, y_train, y_test = \\\n",
    "    train_test_split(X, y, test_size=.2)"
   ]
  },
  {
   "cell_type": "code",
   "execution_count": 8,
   "metadata": {},
   "outputs": [
    {
     "data": {
      "text/plain": [
       "{'criterion': 'gini', 'max_depth': 9, 'max_features': 4}"
      ]
     },
     "execution_count": 8,
     "metadata": {},
     "output_type": "execute_result"
    }
   ],
   "source": [
    "params = {'max_depth': range(1,11),\n",
    "          'max_features': range(1,5), \n",
    "          'criterion': ['gini', 'entropy']}\n",
    "\n",
    "model = DecisionTreeClassifier()\n",
    "model.fit(X_train, y_train)\n",
    "\n",
    "grid = GridSearchCV(model, params, cv=3)\n",
    "grid.fit(X_train, y_train)\n",
    "grid.best_params_"
   ]
  },
  {
   "cell_type": "code",
   "execution_count": 9,
   "metadata": {},
   "outputs": [
    {
     "data": {
      "text/plain": [
       "0.6808510638297872"
      ]
     },
     "execution_count": 9,
     "metadata": {},
     "output_type": "execute_result"
    }
   ],
   "source": [
    "model = grid.best_estimator_\n",
    "model.score(X_test, y_test)"
   ]
  },
  {
   "cell_type": "code",
   "execution_count": 10,
   "metadata": {},
   "outputs": [
    {
     "data": {
      "text/plain": [
       "0.6362860556408944"
      ]
     },
     "execution_count": 10,
     "metadata": {},
     "output_type": "execute_result"
    }
   ],
   "source": [
    "grid.best_score_"
   ]
  },
  {
   "cell_type": "code",
   "execution_count": 20,
   "metadata": {
    "scrolled": true
   },
   "outputs": [
    {
     "data": {
      "text/plain": [
       "[{'criterion': 'gini', 'max_depth': 1, 'max_features': 1},\n",
       " {'criterion': 'gini', 'max_depth': 1, 'max_features': 2},\n",
       " {'criterion': 'gini', 'max_depth': 1, 'max_features': 3},\n",
       " {'criterion': 'gini', 'max_depth': 1, 'max_features': 4},\n",
       " {'criterion': 'gini', 'max_depth': 2, 'max_features': 1},\n",
       " {'criterion': 'gini', 'max_depth': 2, 'max_features': 2},\n",
       " {'criterion': 'gini', 'max_depth': 2, 'max_features': 3},\n",
       " {'criterion': 'gini', 'max_depth': 2, 'max_features': 4},\n",
       " {'criterion': 'gini', 'max_depth': 3, 'max_features': 1},\n",
       " {'criterion': 'gini', 'max_depth': 3, 'max_features': 2},\n",
       " {'criterion': 'gini', 'max_depth': 3, 'max_features': 3},\n",
       " {'criterion': 'gini', 'max_depth': 3, 'max_features': 4},\n",
       " {'criterion': 'gini', 'max_depth': 4, 'max_features': 1},\n",
       " {'criterion': 'gini', 'max_depth': 4, 'max_features': 2},\n",
       " {'criterion': 'gini', 'max_depth': 4, 'max_features': 3},\n",
       " {'criterion': 'gini', 'max_depth': 4, 'max_features': 4},\n",
       " {'criterion': 'gini', 'max_depth': 5, 'max_features': 1},\n",
       " {'criterion': 'gini', 'max_depth': 5, 'max_features': 2},\n",
       " {'criterion': 'gini', 'max_depth': 5, 'max_features': 3},\n",
       " {'criterion': 'gini', 'max_depth': 5, 'max_features': 4},\n",
       " {'criterion': 'gini', 'max_depth': 6, 'max_features': 1},\n",
       " {'criterion': 'gini', 'max_depth': 6, 'max_features': 2},\n",
       " {'criterion': 'gini', 'max_depth': 6, 'max_features': 3},\n",
       " {'criterion': 'gini', 'max_depth': 6, 'max_features': 4},\n",
       " {'criterion': 'gini', 'max_depth': 7, 'max_features': 1},\n",
       " {'criterion': 'gini', 'max_depth': 7, 'max_features': 2},\n",
       " {'criterion': 'gini', 'max_depth': 7, 'max_features': 3},\n",
       " {'criterion': 'gini', 'max_depth': 7, 'max_features': 4},\n",
       " {'criterion': 'gini', 'max_depth': 8, 'max_features': 1},\n",
       " {'criterion': 'gini', 'max_depth': 8, 'max_features': 2},\n",
       " {'criterion': 'gini', 'max_depth': 8, 'max_features': 3},\n",
       " {'criterion': 'gini', 'max_depth': 8, 'max_features': 4},\n",
       " {'criterion': 'gini', 'max_depth': 9, 'max_features': 1},\n",
       " {'criterion': 'gini', 'max_depth': 9, 'max_features': 2},\n",
       " {'criterion': 'gini', 'max_depth': 9, 'max_features': 3},\n",
       " {'criterion': 'gini', 'max_depth': 9, 'max_features': 4},\n",
       " {'criterion': 'gini', 'max_depth': 10, 'max_features': 1},\n",
       " {'criterion': 'gini', 'max_depth': 10, 'max_features': 2},\n",
       " {'criterion': 'gini', 'max_depth': 10, 'max_features': 3},\n",
       " {'criterion': 'gini', 'max_depth': 10, 'max_features': 4},\n",
       " {'criterion': 'entropy', 'max_depth': 1, 'max_features': 1},\n",
       " {'criterion': 'entropy', 'max_depth': 1, 'max_features': 2},\n",
       " {'criterion': 'entropy', 'max_depth': 1, 'max_features': 3},\n",
       " {'criterion': 'entropy', 'max_depth': 1, 'max_features': 4},\n",
       " {'criterion': 'entropy', 'max_depth': 2, 'max_features': 1},\n",
       " {'criterion': 'entropy', 'max_depth': 2, 'max_features': 2},\n",
       " {'criterion': 'entropy', 'max_depth': 2, 'max_features': 3},\n",
       " {'criterion': 'entropy', 'max_depth': 2, 'max_features': 4},\n",
       " {'criterion': 'entropy', 'max_depth': 3, 'max_features': 1},\n",
       " {'criterion': 'entropy', 'max_depth': 3, 'max_features': 2},\n",
       " {'criterion': 'entropy', 'max_depth': 3, 'max_features': 3},\n",
       " {'criterion': 'entropy', 'max_depth': 3, 'max_features': 4},\n",
       " {'criterion': 'entropy', 'max_depth': 4, 'max_features': 1},\n",
       " {'criterion': 'entropy', 'max_depth': 4, 'max_features': 2},\n",
       " {'criterion': 'entropy', 'max_depth': 4, 'max_features': 3},\n",
       " {'criterion': 'entropy', 'max_depth': 4, 'max_features': 4},\n",
       " {'criterion': 'entropy', 'max_depth': 5, 'max_features': 1},\n",
       " {'criterion': 'entropy', 'max_depth': 5, 'max_features': 2},\n",
       " {'criterion': 'entropy', 'max_depth': 5, 'max_features': 3},\n",
       " {'criterion': 'entropy', 'max_depth': 5, 'max_features': 4},\n",
       " {'criterion': 'entropy', 'max_depth': 6, 'max_features': 1},\n",
       " {'criterion': 'entropy', 'max_depth': 6, 'max_features': 2},\n",
       " {'criterion': 'entropy', 'max_depth': 6, 'max_features': 3},\n",
       " {'criterion': 'entropy', 'max_depth': 6, 'max_features': 4},\n",
       " {'criterion': 'entropy', 'max_depth': 7, 'max_features': 1},\n",
       " {'criterion': 'entropy', 'max_depth': 7, 'max_features': 2},\n",
       " {'criterion': 'entropy', 'max_depth': 7, 'max_features': 3},\n",
       " {'criterion': 'entropy', 'max_depth': 7, 'max_features': 4},\n",
       " {'criterion': 'entropy', 'max_depth': 8, 'max_features': 1},\n",
       " {'criterion': 'entropy', 'max_depth': 8, 'max_features': 2},\n",
       " {'criterion': 'entropy', 'max_depth': 8, 'max_features': 3},\n",
       " {'criterion': 'entropy', 'max_depth': 8, 'max_features': 4},\n",
       " {'criterion': 'entropy', 'max_depth': 9, 'max_features': 1},\n",
       " {'criterion': 'entropy', 'max_depth': 9, 'max_features': 2},\n",
       " {'criterion': 'entropy', 'max_depth': 9, 'max_features': 3},\n",
       " {'criterion': 'entropy', 'max_depth': 9, 'max_features': 4},\n",
       " {'criterion': 'entropy', 'max_depth': 10, 'max_features': 1},\n",
       " {'criterion': 'entropy', 'max_depth': 10, 'max_features': 2},\n",
       " {'criterion': 'entropy', 'max_depth': 10, 'max_features': 3},\n",
       " {'criterion': 'entropy', 'max_depth': 10, 'max_features': 4}]"
      ]
     },
     "execution_count": 20,
     "metadata": {},
     "output_type": "execute_result"
    }
   ],
   "source": [
    "# results = grid.cv_results_\n",
    "# results['mean_test_score']\n",
    "results['params']"
   ]
  },
  {
   "cell_type": "code",
   "execution_count": 15,
   "metadata": {},
   "outputs": [
    {
     "ename": "TypeError",
     "evalue": "'numpy.float64' object does not support item assignment",
     "output_type": "error",
     "traceback": [
      "\u001b[0;31m---------------------------------------------------------------------------\u001b[0m",
      "\u001b[0;31mTypeError\u001b[0m                                 Traceback (most recent call last)",
      "\u001b[0;32m<ipython-input-15-a3012660d7e5>\u001b[0m in \u001b[0;36m<module>\u001b[0;34m\u001b[0m\n\u001b[1;32m      1\u001b[0m \u001b[0;32mfor\u001b[0m \u001b[0mp\u001b[0m\u001b[0;34m,\u001b[0m \u001b[0ms\u001b[0m \u001b[0;32min\u001b[0m \u001b[0mzip\u001b[0m\u001b[0;34m(\u001b[0m\u001b[0mresults\u001b[0m\u001b[0;34m[\u001b[0m\u001b[0;34m'mean_test_score'\u001b[0m\u001b[0;34m]\u001b[0m\u001b[0;34m,\u001b[0m \u001b[0mresults\u001b[0m\u001b[0;34m[\u001b[0m\u001b[0;34m'params'\u001b[0m\u001b[0;34m]\u001b[0m\u001b[0;34m)\u001b[0m\u001b[0;34m:\u001b[0m\u001b[0;34m\u001b[0m\u001b[0;34m\u001b[0m\u001b[0m\n\u001b[0;32m----> 2\u001b[0;31m     \u001b[0mp\u001b[0m\u001b[0;34m[\u001b[0m\u001b[0;34m'score'\u001b[0m\u001b[0;34m]\u001b[0m \u001b[0;34m=\u001b[0m \u001b[0ms\u001b[0m\u001b[0;34m\u001b[0m\u001b[0;34m\u001b[0m\u001b[0m\n\u001b[0m\u001b[1;32m      3\u001b[0m \u001b[0;34m\u001b[0m\u001b[0m\n\u001b[1;32m      4\u001b[0m \u001b[0mpd\u001b[0m\u001b[0;34m.\u001b[0m\u001b[0mDataFrame\u001b[0m\u001b[0;34m(\u001b[0m\u001b[0mparams\u001b[0m\u001b[0;34m)\u001b[0m\u001b[0;34m.\u001b[0m\u001b[0msort_values\u001b[0m\u001b[0;34m(\u001b[0m\u001b[0mby\u001b[0m\u001b[0;34m=\u001b[0m\u001b[0;34m'score'\u001b[0m\u001b[0;34m)\u001b[0m\u001b[0;34m\u001b[0m\u001b[0;34m\u001b[0m\u001b[0m\n",
      "\u001b[0;31mTypeError\u001b[0m: 'numpy.float64' object does not support item assignment"
     ]
    }
   ],
   "source": [
    "\n",
    "for p, s in zip(results['mean_test_score'], results['params']):\n",
    "    p['score'] = s\n",
    "\n",
    "pd.DataFrame(params).sort_values(by='score')"
   ]
  },
  {
   "cell_type": "code",
   "execution_count": 16,
   "metadata": {},
   "outputs": [
    {
     "data": {
      "text/plain": [
       "0.35304659498207885"
      ]
     },
     "execution_count": 16,
     "metadata": {},
     "output_type": "execute_result"
    }
   ],
   "source": [
    "p"
   ]
  },
  {
   "cell_type": "code",
   "execution_count": 19,
   "metadata": {},
   "outputs": [
    {
     "ename": "NameError",
     "evalue": "name 'test_scores' is not defined",
     "output_type": "error",
     "traceback": [
      "\u001b[0;31m---------------------------------------------------------------------------\u001b[0m",
      "\u001b[0;31mNameError\u001b[0m                                 Traceback (most recent call last)",
      "\u001b[0;32m<ipython-input-19-e29952e4e13d>\u001b[0m in \u001b[0;36m<module>\u001b[0;34m\u001b[0m\n\u001b[0;32m----> 1\u001b[0;31m \u001b[0;32mfor\u001b[0m \u001b[0mp\u001b[0m\u001b[0;34m,\u001b[0m \u001b[0ms\u001b[0m \u001b[0;32min\u001b[0m \u001b[0mzip\u001b[0m\u001b[0;34m(\u001b[0m\u001b[0mparams\u001b[0m\u001b[0;34m,\u001b[0m \u001b[0mtest_scores\u001b[0m\u001b[0;34m)\u001b[0m\u001b[0;34m:\u001b[0m\u001b[0;34m\u001b[0m\u001b[0;34m\u001b[0m\u001b[0m\n\u001b[0m\u001b[1;32m      2\u001b[0m     \u001b[0mp\u001b[0m\u001b[0;34m[\u001b[0m\u001b[0;34m'score'\u001b[0m\u001b[0;34m]\u001b[0m \u001b[0;34m=\u001b[0m \u001b[0ms\u001b[0m\u001b[0;34m\u001b[0m\u001b[0;34m\u001b[0m\u001b[0m\n",
      "\u001b[0;31mNameError\u001b[0m: name 'test_scores' is not defined"
     ]
    }
   ],
   "source": [
    "for p, s in zip(params, test_scores):\n",
    "    p['score'] = s"
   ]
  },
  {
   "cell_type": "code",
   "execution_count": null,
   "metadata": {},
   "outputs": [],
   "source": []
  }
 ],
 "metadata": {
  "kernelspec": {
   "display_name": "Python 3",
   "language": "python",
   "name": "python3"
  },
  "language_info": {
   "codemirror_mode": {
    "name": "ipython",
    "version": 3
   },
   "file_extension": ".py",
   "mimetype": "text/x-python",
   "name": "python",
   "nbconvert_exporter": "python",
   "pygments_lexer": "ipython3",
   "version": "3.7.6"
  }
 },
 "nbformat": 4,
 "nbformat_minor": 4
}
